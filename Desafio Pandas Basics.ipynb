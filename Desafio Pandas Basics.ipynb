{
 "cells": [
  {
   "cell_type": "markdown",
   "id": "1fe0fb42",
   "metadata": {},
   "source": [
    "## DESAFIO PANDA BASICS"
   ]
  },
  {
   "cell_type": "markdown",
   "id": "39d5409a",
   "metadata": {},
   "source": [
    "Tem-se os 5 datasets do ano de 2019 da maiores empresas de tecnologia do mundo, sendo elas Apple, Google, Netflix, Amazon e Tesla. Os objetivos são:\n",
    "\n",
    "- Adicionar uma coluna com o código de cada ação\n",
    "- Passar a data como dtype datatime e transformá-la em index\n",
    "- Juntar todos os arquivos em um só\n",
    "- Ao final, responder a pergunta: qual das 5 ações teve a maior média de fechamento no período de julho a setembro de 2019?"
   ]
  },
  {
   "cell_type": "markdown",
   "id": "e35cf811",
   "metadata": {},
   "source": [
    "### Importando as bases de dados e a biblioteca pandas"
   ]
  },
  {
   "cell_type": "code",
   "execution_count": 57,
   "id": "63525328",
   "metadata": {},
   "outputs": [],
   "source": [
    "import pandas as pd "
   ]
  },
  {
   "cell_type": "code",
   "execution_count": 5,
   "id": "ac981d79",
   "metadata": {},
   "outputs": [],
   "source": [
    "apple = pd.read_csv('AAPL.csv')\n",
    "amazon = pd.read_csv('AMZN.csv')\n",
    "google = pd.read_csv('GOOG.csv')\n",
    "netflix = pd.read_csv('NFLX.csv')\n",
    "tesla = pd.read_csv('TSLA.csv')"
   ]
  },
  {
   "cell_type": "markdown",
   "id": "3f695fa7",
   "metadata": {},
   "source": [
    "### Transformando a coluna 'Date' em datetime"
   ]
  },
  {
   "cell_type": "code",
   "execution_count": 8,
   "id": "db98094c",
   "metadata": {},
   "outputs": [],
   "source": [
    "apple['Date'] = pd.to_datetime(apple['Date'])\n",
    "amazon['Date'] = pd.to_datetime(amazon['Date'])\n",
    "google['Date'] = pd.to_datetime(google['Date'])\n",
    "netflix['Date'] = pd.to_datetime(netflix['Date'])\n",
    "tesla['Date'] = pd.to_datetime(tesla['Date'])"
   ]
  },
  {
   "cell_type": "markdown",
   "id": "55fbb087",
   "metadata": {},
   "source": [
    "### Adicionando a coluna 'Empresa' a cada DB com seu respectivo nome"
   ]
  },
  {
   "cell_type": "code",
   "execution_count": 60,
   "id": "9b8f7a28",
   "metadata": {},
   "outputs": [],
   "source": [
    "apple['Empresa'] = 'Apple'\n",
    "amazon['Empresa'] = 'Amazon'\n",
    "google['Empresa'] = 'Google'\n",
    "netflix['Empresa'] = 'Netflix'\n",
    "tesla['Empresa'] = 'Tesla'"
   ]
  },
  {
   "cell_type": "markdown",
   "id": "a4a401f0",
   "metadata": {},
   "source": [
    "### Colocando a coluna 'Date' como index"
   ]
  },
  {
   "cell_type": "code",
   "execution_count": 43,
   "id": "6ab911f8",
   "metadata": {},
   "outputs": [],
   "source": [
    "apple.set_index(['Date'], inplace=True)\n",
    "amazon.set_index(['Date'], inplace=True)\n",
    "google.set_index(['Date'], inplace=True)\n",
    "netflix.set_index(['Date'], inplace=True)\n",
    "tesla.set_index(['Date'], inplace=True)"
   ]
  },
  {
   "cell_type": "markdown",
   "id": "5f1beb76",
   "metadata": {},
   "source": [
    "### Exibindo as ações de cada empresa no período de julho a setembro de 2019"
   ]
  },
  {
   "cell_type": "code",
   "execution_count": 48,
   "id": "475b4765",
   "metadata": {},
   "outputs": [
    {
     "data": {
      "text/html": [
       "<div>\n",
       "<style scoped>\n",
       "    .dataframe tbody tr th:only-of-type {\n",
       "        vertical-align: middle;\n",
       "    }\n",
       "\n",
       "    .dataframe tbody tr th {\n",
       "        vertical-align: top;\n",
       "    }\n",
       "\n",
       "    .dataframe thead th {\n",
       "        text-align: right;\n",
       "    }\n",
       "</style>\n",
       "<table border=\"1\" class=\"dataframe\">\n",
       "  <thead>\n",
       "    <tr style=\"text-align: right;\">\n",
       "      <th></th>\n",
       "      <th>Open</th>\n",
       "      <th>High</th>\n",
       "      <th>Low</th>\n",
       "      <th>Close</th>\n",
       "      <th>Adj Close</th>\n",
       "      <th>Volume</th>\n",
       "      <th>code</th>\n",
       "    </tr>\n",
       "    <tr>\n",
       "      <th>Empresa</th>\n",
       "      <th></th>\n",
       "      <th></th>\n",
       "      <th></th>\n",
       "      <th></th>\n",
       "      <th></th>\n",
       "      <th></th>\n",
       "      <th></th>\n",
       "    </tr>\n",
       "  </thead>\n",
       "  <tbody>\n",
       "    <tr>\n",
       "      <th>Apple</th>\n",
       "      <td>218.070007</td>\n",
       "      <td>223.710007</td>\n",
       "      <td>217.729996</td>\n",
       "      <td>223.589996</td>\n",
       "      <td>222.392929</td>\n",
       "      <td>44289600</td>\n",
       "      <td>Apple</td>\n",
       "    </tr>\n",
       "  </tbody>\n",
       "</table>\n",
       "</div>"
      ],
      "text/plain": [
       "               Open        High         Low       Close   Adj Close    Volume  \\\n",
       "Empresa                                                                         \n",
       "Apple    218.070007  223.710007  217.729996  223.589996  222.392929  44289600   \n",
       "\n",
       "          code  \n",
       "Empresa         \n",
       "Apple    Apple  "
      ]
     },
     "execution_count": 48,
     "metadata": {},
     "output_type": "execute_result"
    }
   ],
   "source": [
    "apple.loc['2019-09-06': '2019-09-11'].groupby('Empresa').max()"
   ]
  },
  {
   "cell_type": "code",
   "execution_count": 49,
   "id": "1796d065",
   "metadata": {},
   "outputs": [
    {
     "data": {
      "text/html": [
       "<div>\n",
       "<style scoped>\n",
       "    .dataframe tbody tr th:only-of-type {\n",
       "        vertical-align: middle;\n",
       "    }\n",
       "\n",
       "    .dataframe tbody tr th {\n",
       "        vertical-align: top;\n",
       "    }\n",
       "\n",
       "    .dataframe thead th {\n",
       "        text-align: right;\n",
       "    }\n",
       "</style>\n",
       "<table border=\"1\" class=\"dataframe\">\n",
       "  <thead>\n",
       "    <tr style=\"text-align: right;\">\n",
       "      <th></th>\n",
       "      <th>Open</th>\n",
       "      <th>High</th>\n",
       "      <th>Low</th>\n",
       "      <th>Close</th>\n",
       "      <th>Adj Close</th>\n",
       "      <th>Volume</th>\n",
       "      <th>code</th>\n",
       "    </tr>\n",
       "    <tr>\n",
       "      <th>Empresa</th>\n",
       "      <th></th>\n",
       "      <th></th>\n",
       "      <th></th>\n",
       "      <th></th>\n",
       "      <th></th>\n",
       "      <th></th>\n",
       "      <th></th>\n",
       "    </tr>\n",
       "  </thead>\n",
       "  <tbody>\n",
       "    <tr>\n",
       "      <th>Amazon</th>\n",
       "      <td>1841.0</td>\n",
       "      <td>1850.0</td>\n",
       "      <td>1826.400024</td>\n",
       "      <td>1833.51001</td>\n",
       "      <td>1833.51001</td>\n",
       "      <td>2999500</td>\n",
       "      <td>Amazon</td>\n",
       "    </tr>\n",
       "  </tbody>\n",
       "</table>\n",
       "</div>"
      ],
      "text/plain": [
       "           Open    High          Low       Close   Adj Close   Volume    code\n",
       "Empresa                                                                      \n",
       "Amazon   1841.0  1850.0  1826.400024  1833.51001  1833.51001  2999500  Amazon"
      ]
     },
     "execution_count": 49,
     "metadata": {},
     "output_type": "execute_result"
    }
   ],
   "source": [
    "amazon.loc['2019-09-06': '2019-09-11'].groupby('Empresa').max()"
   ]
  },
  {
   "cell_type": "code",
   "execution_count": 50,
   "id": "74af48ce",
   "metadata": {},
   "outputs": [
    {
     "data": {
      "text/html": [
       "<div>\n",
       "<style scoped>\n",
       "    .dataframe tbody tr th:only-of-type {\n",
       "        vertical-align: middle;\n",
       "    }\n",
       "\n",
       "    .dataframe tbody tr th {\n",
       "        vertical-align: top;\n",
       "    }\n",
       "\n",
       "    .dataframe thead th {\n",
       "        text-align: right;\n",
       "    }\n",
       "</style>\n",
       "<table border=\"1\" class=\"dataframe\">\n",
       "  <thead>\n",
       "    <tr style=\"text-align: right;\">\n",
       "      <th></th>\n",
       "      <th>Open</th>\n",
       "      <th>High</th>\n",
       "      <th>Low</th>\n",
       "      <th>Close</th>\n",
       "      <th>Adj Close</th>\n",
       "      <th>Volume</th>\n",
       "      <th>code</th>\n",
       "    </tr>\n",
       "    <tr>\n",
       "      <th>Empresa</th>\n",
       "      <th></th>\n",
       "      <th></th>\n",
       "      <th></th>\n",
       "      <th></th>\n",
       "      <th></th>\n",
       "      <th></th>\n",
       "      <th></th>\n",
       "    </tr>\n",
       "  </thead>\n",
       "  <tbody>\n",
       "    <tr>\n",
       "      <th>Google</th>\n",
       "      <td>1208.130005</td>\n",
       "      <td>1222.599976</td>\n",
       "      <td>1202.521973</td>\n",
       "      <td>1220.170044</td>\n",
       "      <td>1220.170044</td>\n",
       "      <td>1471900</td>\n",
       "      <td>Google</td>\n",
       "    </tr>\n",
       "  </tbody>\n",
       "</table>\n",
       "</div>"
      ],
      "text/plain": [
       "                Open         High          Low        Close    Adj Close  \\\n",
       "Empresa                                                                    \n",
       "Google   1208.130005  1222.599976  1202.521973  1220.170044  1220.170044   \n",
       "\n",
       "          Volume    code  \n",
       "Empresa                   \n",
       "Google   1471900  Google  "
      ]
     },
     "execution_count": 50,
     "metadata": {},
     "output_type": "execute_result"
    }
   ],
   "source": [
    "google.loc['2019-09-06': '2019-09-11'].groupby('Empresa').max()"
   ]
  },
  {
   "cell_type": "code",
   "execution_count": 51,
   "id": "6e060bef",
   "metadata": {},
   "outputs": [
    {
     "data": {
      "text/html": [
       "<div>\n",
       "<style scoped>\n",
       "    .dataframe tbody tr th:only-of-type {\n",
       "        vertical-align: middle;\n",
       "    }\n",
       "\n",
       "    .dataframe tbody tr th {\n",
       "        vertical-align: top;\n",
       "    }\n",
       "\n",
       "    .dataframe thead th {\n",
       "        text-align: right;\n",
       "    }\n",
       "</style>\n",
       "<table border=\"1\" class=\"dataframe\">\n",
       "  <thead>\n",
       "    <tr style=\"text-align: right;\">\n",
       "      <th></th>\n",
       "      <th>Open</th>\n",
       "      <th>High</th>\n",
       "      <th>Low</th>\n",
       "      <th>Close</th>\n",
       "      <th>Adj Close</th>\n",
       "      <th>Volume</th>\n",
       "      <th>code</th>\n",
       "    </tr>\n",
       "    <tr>\n",
       "      <th>Empresa</th>\n",
       "      <th></th>\n",
       "      <th></th>\n",
       "      <th></th>\n",
       "      <th></th>\n",
       "      <th></th>\n",
       "      <th></th>\n",
       "      <th></th>\n",
       "    </tr>\n",
       "  </thead>\n",
       "  <tbody>\n",
       "    <tr>\n",
       "      <th>Netflix</th>\n",
       "      <td>294.809998</td>\n",
       "      <td>301.549988</td>\n",
       "      <td>290.600006</td>\n",
       "      <td>294.339996</td>\n",
       "      <td>294.339996</td>\n",
       "      <td>12320200</td>\n",
       "      <td>Netflix</td>\n",
       "    </tr>\n",
       "  </tbody>\n",
       "</table>\n",
       "</div>"
      ],
      "text/plain": [
       "               Open        High         Low       Close   Adj Close    Volume  \\\n",
       "Empresa                                                                         \n",
       "Netflix  294.809998  301.549988  290.600006  294.339996  294.339996  12320200   \n",
       "\n",
       "            code  \n",
       "Empresa           \n",
       "Netflix  Netflix  "
      ]
     },
     "execution_count": 51,
     "metadata": {},
     "output_type": "execute_result"
    }
   ],
   "source": [
    "netflix.loc['2019-09-06': '2019-09-11'].groupby('Empresa').max()"
   ]
  },
  {
   "cell_type": "code",
   "execution_count": 52,
   "id": "8078efb0",
   "metadata": {},
   "outputs": [
    {
     "data": {
      "text/html": [
       "<div>\n",
       "<style scoped>\n",
       "    .dataframe tbody tr th:only-of-type {\n",
       "        vertical-align: middle;\n",
       "    }\n",
       "\n",
       "    .dataframe tbody tr th {\n",
       "        vertical-align: top;\n",
       "    }\n",
       "\n",
       "    .dataframe thead th {\n",
       "        text-align: right;\n",
       "    }\n",
       "</style>\n",
       "<table border=\"1\" class=\"dataframe\">\n",
       "  <thead>\n",
       "    <tr style=\"text-align: right;\">\n",
       "      <th></th>\n",
       "      <th>Open</th>\n",
       "      <th>High</th>\n",
       "      <th>Low</th>\n",
       "      <th>Close</th>\n",
       "      <th>Adj Close</th>\n",
       "      <th>Volume</th>\n",
       "      <th>code</th>\n",
       "    </tr>\n",
       "    <tr>\n",
       "      <th>Empresa</th>\n",
       "      <th></th>\n",
       "      <th></th>\n",
       "      <th></th>\n",
       "      <th></th>\n",
       "      <th></th>\n",
       "      <th></th>\n",
       "      <th></th>\n",
       "    </tr>\n",
       "  </thead>\n",
       "  <tbody>\n",
       "    <tr>\n",
       "      <th>Tesla</th>\n",
       "      <td>237.380005</td>\n",
       "      <td>248.169998</td>\n",
       "      <td>236.0</td>\n",
       "      <td>247.100006</td>\n",
       "      <td>247.100006</td>\n",
       "      <td>10042800</td>\n",
       "      <td>Tesla</td>\n",
       "    </tr>\n",
       "  </tbody>\n",
       "</table>\n",
       "</div>"
      ],
      "text/plain": [
       "               Open        High    Low       Close   Adj Close    Volume  \\\n",
       "Empresa                                                                    \n",
       "Tesla    237.380005  248.169998  236.0  247.100006  247.100006  10042800   \n",
       "\n",
       "          code  \n",
       "Empresa         \n",
       "Tesla    Tesla  "
      ]
     },
     "execution_count": 52,
     "metadata": {},
     "output_type": "execute_result"
    }
   ],
   "source": [
    "tesla.loc['2019-09-06': '2019-09-11'].groupby('Empresa').max()"
   ]
  },
  {
   "cell_type": "markdown",
   "id": "177f123f",
   "metadata": {},
   "source": [
    "### Concatenando pelo método concat todas as empresas em um dataframe único a fim de realizar a pesquisa de qual teve a maior média de fechamento no período desejado"
   ]
  },
  {
   "cell_type": "code",
   "execution_count": 66,
   "id": "22767087",
   "metadata": {},
   "outputs": [
    {
     "data": {
      "text/html": [
       "<div>\n",
       "<style scoped>\n",
       "    .dataframe tbody tr th:only-of-type {\n",
       "        vertical-align: middle;\n",
       "    }\n",
       "\n",
       "    .dataframe tbody tr th {\n",
       "        vertical-align: top;\n",
       "    }\n",
       "\n",
       "    .dataframe thead th {\n",
       "        text-align: right;\n",
       "    }\n",
       "</style>\n",
       "<table border=\"1\" class=\"dataframe\">\n",
       "  <thead>\n",
       "    <tr style=\"text-align: right;\">\n",
       "      <th></th>\n",
       "      <th>Open</th>\n",
       "      <th>High</th>\n",
       "      <th>Low</th>\n",
       "      <th>Close</th>\n",
       "      <th>Adj Close</th>\n",
       "      <th>Volume</th>\n",
       "      <th>code</th>\n",
       "    </tr>\n",
       "    <tr>\n",
       "      <th>Empresa</th>\n",
       "      <th></th>\n",
       "      <th></th>\n",
       "      <th></th>\n",
       "      <th></th>\n",
       "      <th></th>\n",
       "      <th></th>\n",
       "      <th></th>\n",
       "    </tr>\n",
       "  </thead>\n",
       "  <tbody>\n",
       "    <tr>\n",
       "      <th>Amazon</th>\n",
       "      <td>1841.000000</td>\n",
       "      <td>1850.000000</td>\n",
       "      <td>1826.400024</td>\n",
       "      <td>1833.510010</td>\n",
       "      <td>1833.510010</td>\n",
       "      <td>2999500</td>\n",
       "      <td>Amazon</td>\n",
       "    </tr>\n",
       "    <tr>\n",
       "      <th>Apple</th>\n",
       "      <td>218.070007</td>\n",
       "      <td>223.710007</td>\n",
       "      <td>217.729996</td>\n",
       "      <td>223.589996</td>\n",
       "      <td>222.392929</td>\n",
       "      <td>44289600</td>\n",
       "      <td>Apple</td>\n",
       "    </tr>\n",
       "    <tr>\n",
       "      <th>Google</th>\n",
       "      <td>1208.130005</td>\n",
       "      <td>1222.599976</td>\n",
       "      <td>1202.521973</td>\n",
       "      <td>1220.170044</td>\n",
       "      <td>1220.170044</td>\n",
       "      <td>1471900</td>\n",
       "      <td>Google</td>\n",
       "    </tr>\n",
       "    <tr>\n",
       "      <th>Netflix</th>\n",
       "      <td>294.809998</td>\n",
       "      <td>301.549988</td>\n",
       "      <td>290.600006</td>\n",
       "      <td>294.339996</td>\n",
       "      <td>294.339996</td>\n",
       "      <td>12320200</td>\n",
       "      <td>Netflix</td>\n",
       "    </tr>\n",
       "    <tr>\n",
       "      <th>Tesla</th>\n",
       "      <td>237.380005</td>\n",
       "      <td>248.169998</td>\n",
       "      <td>236.000000</td>\n",
       "      <td>247.100006</td>\n",
       "      <td>247.100006</td>\n",
       "      <td>10042800</td>\n",
       "      <td>Tesla</td>\n",
       "    </tr>\n",
       "  </tbody>\n",
       "</table>\n",
       "</div>"
      ],
      "text/plain": [
       "                Open         High          Low        Close    Adj Close  \\\n",
       "Empresa                                                                    \n",
       "Amazon   1841.000000  1850.000000  1826.400024  1833.510010  1833.510010   \n",
       "Apple     218.070007   223.710007   217.729996   223.589996   222.392929   \n",
       "Google   1208.130005  1222.599976  1202.521973  1220.170044  1220.170044   \n",
       "Netflix   294.809998   301.549988   290.600006   294.339996   294.339996   \n",
       "Tesla     237.380005   248.169998   236.000000   247.100006   247.100006   \n",
       "\n",
       "           Volume     code  \n",
       "Empresa                     \n",
       "Amazon    2999500   Amazon  \n",
       "Apple    44289600    Apple  \n",
       "Google    1471900   Google  \n",
       "Netflix  12320200  Netflix  \n",
       "Tesla    10042800    Tesla  "
      ]
     },
     "execution_count": 66,
     "metadata": {},
     "output_type": "execute_result"
    }
   ],
   "source": [
    "df_empresas = pd.concat([apple, amazon, google, netflix, tesla])\n",
    "df_empresas.loc['2019-09-06': '2019-09-11'].groupby('Empresa').max()"
   ]
  },
  {
   "cell_type": "markdown",
   "id": "6716a07f",
   "metadata": {},
   "source": [
    "### Considerações finais"
   ]
  },
  {
   "cell_type": "markdown",
   "id": "c83cd5ee",
   "metadata": {},
   "source": [
    "#### Por meio das abordagens realizadas, foi possível observar que a Amazon possuiu a maior média de fechamento do perído de julho a setembro de 2019"
   ]
  }
 ],
 "metadata": {
  "kernelspec": {
   "display_name": "Python 3 (ipykernel)",
   "language": "python",
   "name": "python3"
  },
  "language_info": {
   "codemirror_mode": {
    "name": "ipython",
    "version": 3
   },
   "file_extension": ".py",
   "mimetype": "text/x-python",
   "name": "python",
   "nbconvert_exporter": "python",
   "pygments_lexer": "ipython3",
   "version": "3.9.12"
  }
 },
 "nbformat": 4,
 "nbformat_minor": 5
}
